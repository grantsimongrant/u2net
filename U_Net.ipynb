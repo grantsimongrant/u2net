{
  "cells": [
    {
      "cell_type": "markdown",
      "metadata": {
        "colab_type": "text",
        "id": "view-in-github"
      },
      "source": [
        "<a href=\"https://colab.research.google.com/github/VidushiBhatia/U-Net-Implementation/blob/main/U_Net_for_Image_Segmentation_From_Scratch_Using_TensorFlow_v4.ipynb\" target=\"_parent\"><img src=\"https://colab.research.google.com/assets/colab-badge.svg\" alt=\"Open In Colab\"/></a>"
      ]
    },
    {
      "cell_type": "markdown",
      "metadata": {
        "id": "V1u4Ib9FEK3d"
      },
      "source": [
        "# Image Segmentation with U-Net\n",
        "\n",
        "This notebook consists of an implementation of U-Net using the following resources:\n",
        "* **Algorithm**: Ronneberger et al., [U-Net](https://arxiv.org/abs/1505.04597) Convolutional Networks for Biomedical Image Segmentation\n",
        "* **Dataset**: [oxford iiit pet dataset](https://www.kaggle.com/tanlikesmath/the-oxfordiiit-pet-dataset) (published by Kaggle)\n",
        "* **Packages Used**: TensorFlow, NumPy, scikit-learn, python-Pillow, imageio, matplotlib"
      ]
    },
    {
      "cell_type": "code",
      "execution_count": null,
      "metadata": {
        "colab": {
          "base_uri": "https://localhost:8080/"
        },
        "id": "OmKbyf-METZh",
        "outputId": "20209759-e0f3-4afd-e960-48c1028ecac9"
      },
      "outputs": [
        {
          "name": "stdout",
          "output_type": "stream",
          "text": [
            "Mounted at /content/drive\n"
          ]
        }
      ],
      "source": [
        "from google.colab import drive\n",
        "drive.mount('/content/drive')"
      ]
    },
    {
      "cell_type": "markdown",
      "metadata": {
        "id": "5SAkwUHEEK3s"
      },
      "source": [
        "# Code Breakdown\n",
        "\n",
        "- [1 - Packages](#1)\n",
        "- [2 - Helper Functions for Data Processing](#2)\n",
        "    - [2.1 - Load Data](#2.1)\n",
        "    - [2.2 - Pre-Process Data](#2.2)\n",
        "- [3 - Helper Functions for U-Net Architecture](#3)\n",
        "    - [3.1 - U-Net Encoder Block](#3.1)\n",
        "    - [3.2 - U-Net Decoder Block](#3.2)\n",
        "    - [3.3 - Compile U-Net Blocks](#3.3)\n",
        "- [4 - Executing above Functions to Train the Model](#4)\n",
        "    - [4.1 - Load and View Data](#4.1)\n",
        "    - [4.2 - Process Data](#4.2)\n",
        "    - [4.3 - Split Train and Test](#4.3)\n",
        "    - [4.4 - Build U-Net Architecture](#4.4)\n",
        "    - [4.5 - Compile and Run Model](#4.5)\n",
        "- [5 - Evaluate Results](#5)\n",
        "    - [5.1 - Bias-Variance Check](#5.1)\n",
        "    - [5.2 - View Predicted Segmentations](#5.2)"
      ]
    },
    {
      "cell_type": "markdown",
      "metadata": {
        "id": "muQKgHXDEK3t"
      },
      "source": [
        "<a name='1'></a>\n",
        "# 1 - Packages"
      ]
    },
    {
      "cell_type": "code",
      "execution_count": null,
      "metadata": {
        "id": "0027KhNdEK3u"
      },
      "outputs": [],
      "source": [
        "# for data load\n",
        "import os\n",
        "\n",
        "# for reading and processing images\n",
        "import imageio\n",
        "from PIL import Image\n",
        "\n",
        "# for visualizations\n",
        "import matplotlib.pyplot as plt\n",
        "\n",
        "import numpy as np # for using np arrays\n",
        "\n",
        "# for bulding and running deep learning model\n",
        "import tensorflow as tf\n",
        "from tensorflow.keras.layers import Input\n",
        "from tensorflow.keras.layers import Conv2D\n",
        "from tensorflow.keras.layers import MaxPooling2D\n",
        "from tensorflow.keras.layers import Dropout \n",
        "from tensorflow.keras.layers import BatchNormalization\n",
        "from tensorflow.keras.layers import Conv2DTranspose\n",
        "from tensorflow.keras.layers import concatenate\n",
        "from tensorflow.keras.losses import binary_crossentropy\n",
        "from sklearn.model_selection import train_test_split"
      ]
    },
    {
      "cell_type": "markdown",
      "metadata": {
        "id": "vCsuUPhPEK3x"
      },
      "source": [
        "<a name='2'></a>\n",
        "# 2 - Helper Functions for Data Processing"
      ]
    },
    {
      "cell_type": "markdown",
      "metadata": {
        "id": "CizbP-vtoEVa"
      },
      "source": [
        "<a name='2.1'></a>\n",
        "## 2.1 - Load Data\n",
        "* the masked images are stored as png, unmasked (original) as jpg\n",
        "* the names of these 2 are same so for getting the right sample we can just sort the 2 lists"
      ]
    },
    {
      "cell_type": "code",
      "execution_count": null,
      "metadata": {
        "id": "nziMCqauEK3x"
      },
      "outputs": [],
      "source": [
        "def LoadData (path1, path2):\n",
        "    \"\"\"\n",
        "    Looks for relevant filenames in the shared path\n",
        "    Returns 2 lists for original and masked files respectively\n",
        "    \n",
        "    \"\"\"\n",
        "    # Read the images folder like a list\n",
        "    image_dataset = os.listdir(path1)\n",
        "    mask_dataset = os.listdir(path2)\n",
        "\n",
        "    # Make a list for images and masks filenames\n",
        "    orig_img = []\n",
        "    mask_img = []\n",
        "    for file in image_dataset:\n",
        "        orig_img.append(file)\n",
        "    for file in mask_dataset:\n",
        "        mask_img.append(file)\n",
        "\n",
        "    # Sort the lists to get both of them in same order (the dataset has exactly the same name for images and corresponding masks)\n",
        "    orig_img.sort()\n",
        "    mask_img.sort()\n",
        "    \n",
        "    return orig_img, mask_img"
      ]
    },
    {
      "cell_type": "markdown",
      "metadata": {
        "id": "SKsIXpZUEK3y"
      },
      "source": [
        "<a name='2.2'></a>\n",
        "## 2.2 - Pre-Process Data"
      ]
    },
    {
      "cell_type": "code",
      "execution_count": null,
      "metadata": {
        "id": "dIAhtxOjEK3z"
      },
      "outputs": [],
      "source": [
        "def PreprocessData(img, mask, target_shape_img, target_shape_mask, path1, path2):\n",
        "    \"\"\"\n",
        "    Processes the images and mask present in the shared list and path\n",
        "    Returns a NumPy dataset with images as 3-D arrays of desired size\n",
        "    Please note the masks in this dataset have only one channel\n",
        "    \"\"\"\n",
        "    # Pull the relevant dimensions for image and mask\n",
        "    m = len(img)                     # number of images\n",
        "    i_h,i_w,i_c = target_shape_img   # pull height, width, and channels of image\n",
        "    m_h,m_w,m_c = target_shape_mask  # pull height, width, and channels of mask\n",
        "    \n",
        "    # Define X and Y as number of images along with shape of one image\n",
        "    X = np.zeros((m,i_h,i_w,i_c), dtype=np.float32)\n",
        "    y = np.zeros((m,m_h,m_w,m_c), dtype=np.int32)\n",
        "    \n",
        "    # Resize images and masks\n",
        "    for file in img:\n",
        "        # convert image into an array of desired shape (3 channels)\n",
        "        index = img.index(file)\n",
        "        path = os.path.join(path1, file)\n",
        "        single_img = Image.open(path).convert('RGB')\n",
        "        single_img = single_img.resize((i_h,i_w))\n",
        "        single_img = np.reshape(single_img,(i_h,i_w,i_c)) \n",
        "        single_img = single_img/256.\n",
        "        X[index] = single_img\n",
        "        \n",
        "        # convert mask into an array of desired shape (1 channel)\n",
        "        single_mask_ind = mask[index]\n",
        "        path = os.path.join(path2, single_mask_ind)\n",
        "        single_mask = Image.open(path)\n",
        "        single_mask = single_mask.resize((m_h, m_w))\n",
        "        single_mask = np.reshape(single_mask,(m_h,m_w,m_c)) \n",
        "        single_mask = single_mask - 1 # to ensure classes #s start from 0\n",
        "        y[index] = single_mask\n",
        "    return X, y"
      ]
    },
    {
      "cell_type": "markdown",
      "metadata": {
        "id": "HnABzE3wEK30"
      },
      "source": [
        "<a name='3'></a>\n",
        "#3 - Constructing the U-Net Architecture\n"
      ]
    },
    {
      "cell_type": "markdown",
      "metadata": {
        "id": "SEVmm5TRsgM7"
      },
      "source": [
        "<a name='3.1'></a>\n",
        "## 3.1 - U-Net Encoder Block"
      ]
    },
    {
      "cell_type": "code",
      "execution_count": null,
      "metadata": {
        "id": "qgnsdxWlEK32"
      },
      "outputs": [],
      "source": [
        "def EncoderMiniBlock(inputs, n_filters=32, dropout_prob=0.3, max_pooling=True):\n",
        "    \"\"\"\n",
        "    This block uses multiple convolution layers, max pool, relu activation to create an architecture for learning. \n",
        "    Dropout can be added for regularization to prevent overfitting. \n",
        "    The block returns the activation values for next layer along with a skip connection which will be used in the decoder\n",
        "    \"\"\"\n",
        "    # Add 2 Conv Layers with relu activation and HeNormal initialization using TensorFlow \n",
        "    # Proper initialization prevents from the problem of exploding and vanishing gradients \n",
        "    # 'Same' padding will pad the input to conv layer such that the output has the same height and width (hence, is not reduced in size) \n",
        "    conv = Conv2D(n_filters, \n",
        "                  3,   # Kernel size   \n",
        "                  activation='relu',\n",
        "                  padding='same',\n",
        "                  kernel_initializer='HeNormal')(inputs)\n",
        "    conv = Conv2D(n_filters, \n",
        "                  3,   # Kernel size\n",
        "                  activation='relu',\n",
        "                  padding='same',\n",
        "                  kernel_initializer='HeNormal')(conv)\n",
        "    \n",
        "    # Batch Normalization will normalize the output of the last layer based on the batch's mean and standard deviation\n",
        "    conv = BatchNormalization()(conv, training=False)\n",
        "\n",
        "    # In case of overfitting, dropout will regularize the loss and gradient computation to shrink the influence of weights on output\n",
        "    if dropout_prob > 0:     \n",
        "        conv = tf.keras.layers.Dropout(dropout_prob)(conv)\n",
        "\n",
        "    # Pooling reduces the size of the image while keeping the number of channels same\n",
        "    # Pooling has been kept as optional as the last encoder layer does not use pooling (hence, makes the encoder block flexible to use)\n",
        "    # Below, Max pooling considers the maximum of the input slice for output computation and uses stride of 2 to traverse across input image\n",
        "    if max_pooling:\n",
        "        next_layer = tf.keras.layers.MaxPooling2D(pool_size = (2,2))(conv)    \n",
        "    else:\n",
        "        next_layer = conv\n",
        "\n",
        "    # skip connection (without max pooling) will be input to the decoder layer to prevent information loss during transpose convolutions      \n",
        "    skip_connection = conv\n",
        "    \n",
        "    return next_layer, skip_connection"
      ]
    },
    {
      "cell_type": "markdown",
      "metadata": {
        "id": "OvdE_snaEK33"
      },
      "source": [
        "<a name='3.2'></a>\n",
        "## 3.2 - U-Net Decoder Block"
      ]
    },
    {
      "cell_type": "code",
      "execution_count": null,
      "metadata": {
        "id": "H2vri1qPEK33"
      },
      "outputs": [],
      "source": [
        "def DecoderMiniBlock(prev_layer_input, skip_layer_input, n_filters=32):\n",
        "    \"\"\"\n",
        "    Decoder Block first uses transpose convolution to upscale the image to a bigger size and then,\n",
        "    merges the result with skip layer results from encoder block\n",
        "    Adding 2 convolutions with 'same' padding helps further increase the depth of the network for better predictions\n",
        "    The function returns the decoded layer output\n",
        "    \"\"\"\n",
        "    # Start with a transpose convolution layer to first increase the size of the image\n",
        "    up = Conv2DTranspose(\n",
        "                 n_filters,\n",
        "                 (3,3),    # Kernel size\n",
        "                 strides=(2,2),\n",
        "                 padding='same')(prev_layer_input)\n",
        "\n",
        "    # Merge the skip connection from previous block to prevent information loss\n",
        "    merge = concatenate([up, skip_layer_input], axis=3)\n",
        "    \n",
        "    # Add 2 Conv Layers with relu activation and HeNormal initialization for further processing\n",
        "    # The parameters for the function are similar to encoder\n",
        "    conv = Conv2D(n_filters, \n",
        "                 3,     # Kernel size\n",
        "                 activation='relu',\n",
        "                 padding='same',\n",
        "                 kernel_initializer='HeNormal')(merge)\n",
        "    conv = Conv2D(n_filters,\n",
        "                 3,   # Kernel size\n",
        "                 activation='relu',\n",
        "                 padding='same',\n",
        "                 kernel_initializer='HeNormal')(conv)\n",
        "    return conv"
      ]
    },
    {
      "cell_type": "markdown",
      "metadata": {
        "id": "eA1JWJ11EK34"
      },
      "source": [
        "<a name='3.3'></a>\n",
        "## 3.3 - Compile U-Net Blocks"
      ]
    },
    {
      "cell_type": "code",
      "execution_count": null,
      "metadata": {
        "id": "OtSCawqkEK34"
      },
      "outputs": [],
      "source": [
        "def UNetCompiled(input_size=(128, 128, 3), n_filters=32, n_classes=3):\n",
        "   \"\"\"\n",
        "   Combine both encoder and decoder blocks according to the U-Net research paper\n",
        "   Return the model as output \n",
        "   \"\"\"\n",
        "    # Input size represent the size of 1 image (the size used for pre-processing) \n",
        "    inputs = Input(input_size)\n",
        "    \n",
        "    # Encoder includes multiple convolutional mini blocks with different maxpooling, dropout and filter parameters\n",
        "    # Observe that the filters are increasing as we go deeper into the network which will increasse the # channels of the image \n",
        "    cblock1 = EncoderMiniBlock(inputs, n_filters,dropout_prob=0, max_pooling=True)\n",
        "    cblock2 = EncoderMiniBlock(cblock1[0],n_filters*2,dropout_prob=0, max_pooling=True)\n",
        "    cblock3 = EncoderMiniBlock(cblock2[0], n_filters*4,dropout_prob=0, max_pooling=True)\n",
        "    cblock4 = EncoderMiniBlock(cblock3[0], n_filters*8,dropout_prob=0.3, max_pooling=True)\n",
        "    cblock5 = EncoderMiniBlock(cblock4[0], n_filters*16, dropout_prob=0.3, max_pooling=False) \n",
        "    \n",
        "    # Decoder includes multiple mini blocks with decreasing number of filters\n",
        "    # Observe the skip connections from the encoder are given as input to the decoder\n",
        "    # Recall the 2nd output of encoder block was skip connection, hence cblockn[1] is used\n",
        "    ublock6 = DecoderMiniBlock(cblock5[0], cblock4[1],  n_filters * 8)\n",
        "    ublock7 = DecoderMiniBlock(ublock6, cblock3[1],  n_filters * 4)\n",
        "    ublock8 = DecoderMiniBlock(ublock7, cblock2[1],  n_filters * 2)\n",
        "    ublock9 = DecoderMiniBlock(ublock8, cblock1[1],  n_filters)\n",
        "\n",
        "    # Complete the model with 1 3x3 convolution layer (Same as the prev Conv Layers)\n",
        "    # Followed by a 1x1 Conv layer to get the image to the desired size. \n",
        "    # Observe the number of channels will be equal to number of output classes\n",
        "    conv9 = Conv2D(n_filters,\n",
        "                 3,\n",
        "                 activation='relu',\n",
        "                 padding='same',\n",
        "                 kernel_initializer='he_normal')(ublock9)\n",
        "\n",
        "    conv10 = Conv2D(n_classes, 1, padding='same')(conv9)\n",
        "    \n",
        "    # Define the model\n",
        "    model = tf.keras.Model(inputs=inputs, outputs=conv10)\n",
        "\n",
        "    return model"
      ]
    }
  ],
  "metadata": {
    "colab": {
      "collapsed_sections": [],
      "include_colab_link": true,
      "name": "U-Net for Image Segmentation From Scratch Using TensorFlow v4.ipynb",
      "provenance": [],
      "toc_visible": true
    },
    "kernelspec": {
      "display_name": "Python 3",
      "language": "python",
      "name": "python3"
    },
    "language_info": {
      "codemirror_mode": {
        "name": "ipython",
        "version": 3
      },
      "file_extension": ".py",
      "mimetype": "text/x-python",
      "name": "python",
      "nbconvert_exporter": "python",
      "pygments_lexer": "ipython3",
      "version": "3.8.10"
    }
  },
  "nbformat": 4,
  "nbformat_minor": 0
}
