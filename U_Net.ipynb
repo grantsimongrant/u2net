{
  "cells": [
    {
      "cell_type": "markdown",
      "metadata": {
        "colab_type": "text",
        "id": "view-in-github"
      },
      "source": [
        "<a href=\"https://colab.research.google.com/github/VidushiBhatia/U-Net-Implementation/blob/main/U_Net_for_Image_Segmentation_From_Scratch_Using_TensorFlow_v4.ipynb\" target=\"_parent\"><img src=\"https://colab.research.google.com/assets/colab-badge.svg\" alt=\"Open In Colab\"/></a>"
      ]
    },
    {
      "cell_type": "markdown",
      "metadata": {
        "id": "V1u4Ib9FEK3d"
      },
      "source": [
        "# U-Net 图像分割\n",
        "\n",
        "本notebook实现了U-Net，使用以下资源：\n",
        "* **算法**：Ronnerberger等人，[U-Net](https://arxiv.org/abs/1505.04597)用于生物医学图像分割的卷积神经网络\n",
        "* **数据集**：[oxford iiit宠物数据集](https://www.kaggle.com/tanlikesmath/the-oxfordiiit-pet-dataset)（由Kaggle发布）\n",
        "* **使用的库**：TensorFlow，NumPy，scikit-learn，python-Pillow，imageio，matplotlib"
      ]
    },
    {
      "cell_type": "code",
      "execution_count": null,
      "metadata": {
        "colab": {
          "base_uri": "https://localhost:8080/"
        },
        "id": "OmKbyf-METZh",
        "outputId": "20209759-e0f3-4afd-e960-48c1028ecac9"
      },
      "outputs": [
        {
          "name": "stdout",
          "output_type": "stream",
          "text": [
            "已加载到 /content/drive\n"
          ]
        }
      ],
      "source": [
        "from google.colab import drive\n",
        "drive.mount('/content/drive')"
      ]
    },
    {
      "cell_type": "markdown",
      "metadata": {
        "id": "5SAkwUHEEK3s"
      },
      "source": [
        "# 代码分析\n",
        "\n",
        "- [1 - 包](#1)\n",
        "- [2 - 辅助函数用于数据处理](#2)\n",
        "    - [2.1 - 加载数据](#2.1)\n",
        "    - [2.2 - 预处理数据](#2.2)\n",
        "    - [2.3 - 数据可视化](#2.3)\n",
        "- [3 - 构建U-Net模型](#3)\n",
        "    - [3.1 - U-Net架构](#3.1)\n",
        "    - [3.2 - 损失函数](#3.2)\n",
        "    - [3.3 - 优化器](#3.3)\n",
        "- [4 - 训练模型](#4)\n"
      ]
    }
  ]
}}- [4.1 - 数据生成器](#4.1)
- [4.2 - 训练函数](#4.2)
- [4.3 - 模型评估](#4.3)
- [5 - 测试模型](#5)]```
对于文件中的图像:
    # 将图像转换为所需形状的数组（3个通道）
    图像索引 = 图像.index(文件)
    图像路径 = os.path.join(路径1, 文件)
    单个图像 = Image.open(图像路径).convert('RGB')
    单个图像 = 单个图像.resize((图像高度, 图像宽度))
    单个图像 = np.reshape(单个图像, (图像高度, 图像宽度, 图像通道))
    单个图像 = 单个图像/256.
    X[图像索引] = 单个图像
    
    # 将掩膜转换为所需形状的数组（1个通道）
    单个掩膜索引 = 掩膜[图像索引]
    控制路径 = os.path.join(路径2, 单个掩膜索引)
    单个掩膜 = Image.open(控制路径)
    单个掩膜 = 单个掩膜.resize((掩膜高度, 掩膜宽度))
    单个掩膜 = np.reshape(单个掩膜, (掩膜高度, 掩膜宽度, 掩膜通道))
    单个掩膜 = 单个掩膜 - 1 # 确保类别从0开始
    y[图像索引] = 单个掩膜
返回 X, y

#3 - 构建U-Net结构

## 3.1 - U-Net编码块

def 编码器Mini块(inputs, n_filters=32, dropout_prob=0.3, max_pooling=True):
    """
    该块使用多个卷积层、最大池化和ReLU激活函数创建学习架构。
    可以添加Dropout进行正则化，以防止过拟合。
    该块返回下一层的激活值和解码器的跳过连接。
    """
    # 使用2个带ReLU激活函数和HeNormal初始化的卷积层
    # 适当的初始化可以防止梯度爆炸和梯度消失问题
    # 'same'填充将卷积层的输入填充，以使输出具有相同的高度和宽度（因此大小不会减少）
    卷积层 = Conv2D(n_filters,
                  3,
                  activation='relu',
                  padding='same',
                  kernel_initializer='HeNormal')(inputs)
    卷积层 = Conv2D(n_filters,
                  3,
                  activation='relu',
                  padding='same',
                  kernel_initializer='HeNormal')(卷积层)

    # 添加最大池化层
    if max_pooling:
        池化层 = MaxPooling2D(pool_size=(2, 2))(卷积层)
        返回 池化层, 卷积层
    else:
        返回 卷积层, 卷积层```python"def 解码器Mini块(prev_layer_input, skip_layer_input, n_filters=32):
    """
    将解码块的内容作为字符串返回
    """

    # 解码层将来自对应编码层和较早阶段跳跃连接的信息合并
    # 编码层在编码块中定义
    上采样卷积层 = tf.keras.layers.Conv2DTranspose(filters=n_filters, kernel_size=(3, 3), strides=(2, 2), padding='same')(prev_layer_input)

    # 将跳跃连接与解码层的输出合并
    合并 = tf.keras.layers.Concatenate()([上采样卷积层, skip_layer_input])".
格式化: 只返回翻译后的内容，不包括原文。conv = tf.keras.layers.Conv2D(filters=n_filters, kernel_size=(3, 3), activation='relu', padding='same', kernel_initializer='HeNormal')(merge)

conv = tf.keras.layers.BatchNormalization()(conv, training=False)

如果 dropout_prob > 0:
    conv = tf.keras.layers.Dropout(dropout_prob)(conv)

如果 max_pooling:
    next_layer = tf.keras.layers.MaxPooling2D(pool_size=(2, 2))(conv)
else:
    next_layer = conv

skip_connection = conv

return next_layer, skip_connection